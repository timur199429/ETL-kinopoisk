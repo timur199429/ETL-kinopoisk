{
 "cells": [
  {
   "cell_type": "code",
   "execution_count": 2,
   "metadata": {},
   "outputs": [],
   "source": [
    "from selenium import webdriver\n",
    "from selenium.webdriver.chrome.service import Service\n",
    "from selenium.webdriver.chrome.options import Options\n",
    "from selenium.webdriver.common.by import By\n",
    "from selenium.webdriver.common.keys import Keys\n",
    "import time\n",
    "import pandas as pd"
   ]
  },
  {
   "cell_type": "markdown",
   "metadata": {},
   "source": [
    "# scraping kinopoisk, top250 films"
   ]
  },
  {
   "cell_type": "code",
   "execution_count": 3,
   "metadata": {},
   "outputs": [],
   "source": [
    "driver = webdriver.Firefox()"
   ]
  },
  {
   "cell_type": "code",
   "execution_count": 4,
   "metadata": {},
   "outputs": [],
   "source": [
    "driver.get('https://www.kinopoisk.ru/lists/movies/top250/?utm_referrer=www.google.com')"
   ]
  },
  {
   "cell_type": "code",
   "execution_count": 5,
   "metadata": {},
   "outputs": [],
   "source": [
    "top250 = []\n",
    "for x in range(1,6):\n",
    "    driver.get(f'https://www.kinopoisk.ru/lists/movies/top250/?utm_referrer=www.google.com&page={x}')\n",
    "    time.sleep(3)\n",
    "    films = driver.find_elements(By.CLASS_NAME,'styles_root__ti07r')\n",
    "    for film in films:\n",
    "        title = film.find_element(By.CLASS_NAME,'base-movie-main-info_mainInfo__ZL_u3').text\n",
    "        main_info1 = film.find_element(By.CLASS_NAME,'desktop-list-main-info_secondaryTitleSlot__mc0mI').text.replace('\\n','')\n",
    "        main_info2 = film.find_elements(By.CLASS_NAME,'desktop-list-main-info_additionalInfo__Hqzof')[0].text\n",
    "        main_info3 = film.find_elements(By.CLASS_NAME,'desktop-list-main-info_additionalInfo__Hqzof')[1].text\n",
    "        top250.append([title,main_info1,main_info2,main_info3])"
   ]
  },
  {
   "cell_type": "code",
   "execution_count": 14,
   "metadata": {},
   "outputs": [],
   "source": [
    "pd.DataFrame(top250,columns=['title','main_info1','main_info2','main_info3']).to_csv('top250.csv',index=False)"
   ]
  },
  {
   "cell_type": "code",
   "execution_count": 3,
   "metadata": {},
   "outputs": [],
   "source": [
    "df = pd.read_csv('top250.csv')"
   ]
  },
  {
   "cell_type": "markdown",
   "metadata": {},
   "source": [
    "# Data cleaning"
   ]
  },
  {
   "cell_type": "code",
   "execution_count": 4,
   "metadata": {},
   "outputs": [
    {
     "data": {
      "text/html": [
       "<div>\n",
       "<style scoped>\n",
       "    .dataframe tbody tr th:only-of-type {\n",
       "        vertical-align: middle;\n",
       "    }\n",
       "\n",
       "    .dataframe tbody tr th {\n",
       "        vertical-align: top;\n",
       "    }\n",
       "\n",
       "    .dataframe thead th {\n",
       "        text-align: right;\n",
       "    }\n",
       "</style>\n",
       "<table border=\"1\" class=\"dataframe\">\n",
       "  <thead>\n",
       "    <tr style=\"text-align: right;\">\n",
       "      <th></th>\n",
       "      <th>title</th>\n",
       "      <th>main_info1</th>\n",
       "      <th>main_info2</th>\n",
       "      <th>main_info3</th>\n",
       "    </tr>\n",
       "  </thead>\n",
       "  <tbody>\n",
       "    <tr>\n",
       "      <th>0</th>\n",
       "      <td>Зеленая миля</td>\n",
       "      <td>The Green Mile, 1999, 189 мин.</td>\n",
       "      <td>США • драма  Режиссёр: Фрэнк Дарабонт</td>\n",
       "      <td>В ролях: Том Хэнкс, Дэвид Морс</td>\n",
       "    </tr>\n",
       "    <tr>\n",
       "      <th>1</th>\n",
       "      <td>Побег из Шоушенка</td>\n",
       "      <td>The Shawshank Redemption, 1994, 142 мин.</td>\n",
       "      <td>США • драма  Режиссёр: Фрэнк Дарабонт</td>\n",
       "      <td>В ролях: Тим Роббинс, Морган Фриман</td>\n",
       "    </tr>\n",
       "    <tr>\n",
       "      <th>2</th>\n",
       "      <td>Форрест Гамп</td>\n",
       "      <td>Forrest Gump, 1994, 142 мин.</td>\n",
       "      <td>США • драма  Режиссёр: Роберт Земекис</td>\n",
       "      <td>В ролях: Том Хэнкс, Робин Райт</td>\n",
       "    </tr>\n",
       "    <tr>\n",
       "      <th>3</th>\n",
       "      <td>1+1</td>\n",
       "      <td>Intouchables, 2011, 112 мин.</td>\n",
       "      <td>Франция • драма  Режиссёр: Оливье Накаш</td>\n",
       "      <td>В ролях: Франсуа Клюзе, Омар Си</td>\n",
       "    </tr>\n",
       "    <tr>\n",
       "      <th>4</th>\n",
       "      <td>Список Шиндлера</td>\n",
       "      <td>Schindler's List, 1993, 195 мин.</td>\n",
       "      <td>США • драма  Режиссёр: Стивен Спилберг</td>\n",
       "      <td>В ролях: Лиам Нисон, Бен Кингсли</td>\n",
       "    </tr>\n",
       "  </tbody>\n",
       "</table>\n",
       "</div>"
      ],
      "text/plain": [
       "               title                                main_info1  \\\n",
       "0       Зеленая миля            The Green Mile, 1999, 189 мин.   \n",
       "1  Побег из Шоушенка  The Shawshank Redemption, 1994, 142 мин.   \n",
       "2       Форрест Гамп              Forrest Gump, 1994, 142 мин.   \n",
       "3                1+1              Intouchables, 2011, 112 мин.   \n",
       "4    Список Шиндлера          Schindler's List, 1993, 195 мин.   \n",
       "\n",
       "                                main_info2  \\\n",
       "0    США • драма  Режиссёр: Фрэнк Дарабонт   \n",
       "1    США • драма  Режиссёр: Фрэнк Дарабонт   \n",
       "2    США • драма  Режиссёр: Роберт Земекис   \n",
       "3  Франция • драма  Режиссёр: Оливье Накаш   \n",
       "4   США • драма  Режиссёр: Стивен Спилберг   \n",
       "\n",
       "                            main_info3  \n",
       "0       В ролях: Том Хэнкс, Дэвид Морс  \n",
       "1  В ролях: Тим Роббинс, Морган Фриман  \n",
       "2       В ролях: Том Хэнкс, Робин Райт  \n",
       "3      В ролях: Франсуа Клюзе, Омар Си  \n",
       "4     В ролях: Лиам Нисон, Бен Кингсли  "
      ]
     },
     "execution_count": 4,
     "metadata": {},
     "output_type": "execute_result"
    }
   ],
   "source": [
    "df.head()"
   ]
  },
  {
   "cell_type": "markdown",
   "metadata": {},
   "source": [
    "split main_info1 by comma"
   ]
  },
  {
   "cell_type": "code",
   "execution_count": 5,
   "metadata": {},
   "outputs": [],
   "source": [
    "df['main_info1'] = df['main_info1'].str.split(', ')"
   ]
  },
  {
   "cell_type": "markdown",
   "metadata": {},
   "source": [
    "create column main_actors from main_info3"
   ]
  },
  {
   "cell_type": "code",
   "execution_count": 6,
   "metadata": {},
   "outputs": [],
   "source": [
    "df['main_actors'] = df['main_info3'].str.replace('В ролях: ','')"
   ]
  },
  {
   "cell_type": "code",
   "execution_count": 7,
   "metadata": {},
   "outputs": [],
   "source": [
    "df = df.drop('main_info3',axis=1)"
   ]
  },
  {
   "cell_type": "markdown",
   "metadata": {},
   "source": [
    "create subcolumns: country, genre, producer from main_info2"
   ]
  },
  {
   "cell_type": "code",
   "execution_count": 8,
   "metadata": {},
   "outputs": [],
   "source": [
    "df[['country','genre+producer']] = df['main_info2'].str.split('•',expand=True).rename({0:'country',1:'genre+producer'},axis=1)"
   ]
  },
  {
   "cell_type": "code",
   "execution_count": 9,
   "metadata": {},
   "outputs": [],
   "source": [
    "df = df.drop('main_info2',axis=1)"
   ]
  },
  {
   "cell_type": "code",
   "execution_count": 10,
   "metadata": {},
   "outputs": [],
   "source": [
    "df[['genre','producer']] = df['genre+producer'].str.split('  Режиссёр: ',expand=True)"
   ]
  },
  {
   "cell_type": "code",
   "execution_count": 11,
   "metadata": {},
   "outputs": [],
   "source": [
    "df = df.drop('genre+producer',axis=1)"
   ]
  },
  {
   "cell_type": "code",
   "execution_count": 31,
   "metadata": {},
   "outputs": [
    {
     "data": {
      "text/html": [
       "<div>\n",
       "<style scoped>\n",
       "    .dataframe tbody tr th:only-of-type {\n",
       "        vertical-align: middle;\n",
       "    }\n",
       "\n",
       "    .dataframe tbody tr th {\n",
       "        vertical-align: top;\n",
       "    }\n",
       "\n",
       "    .dataframe thead th {\n",
       "        text-align: right;\n",
       "    }\n",
       "</style>\n",
       "<table border=\"1\" class=\"dataframe\">\n",
       "  <thead>\n",
       "    <tr style=\"text-align: right;\">\n",
       "      <th></th>\n",
       "      <th>title</th>\n",
       "      <th>main_actors</th>\n",
       "      <th>country</th>\n",
       "      <th>genre</th>\n",
       "      <th>producer</th>\n",
       "      <th>year</th>\n",
       "      <th>time_min</th>\n",
       "    </tr>\n",
       "  </thead>\n",
       "  <tbody>\n",
       "    <tr>\n",
       "      <th>0</th>\n",
       "      <td>Зеленая миля</td>\n",
       "      <td>Том Хэнкс, Дэвид Морс</td>\n",
       "      <td>США</td>\n",
       "      <td>драма</td>\n",
       "      <td>Фрэнк Дарабонт</td>\n",
       "      <td>1999</td>\n",
       "      <td>189</td>\n",
       "    </tr>\n",
       "    <tr>\n",
       "      <th>1</th>\n",
       "      <td>Побег из Шоушенка</td>\n",
       "      <td>Тим Роббинс, Морган Фриман</td>\n",
       "      <td>США</td>\n",
       "      <td>драма</td>\n",
       "      <td>Фрэнк Дарабонт</td>\n",
       "      <td>1994</td>\n",
       "      <td>142</td>\n",
       "    </tr>\n",
       "    <tr>\n",
       "      <th>2</th>\n",
       "      <td>Форрест Гамп</td>\n",
       "      <td>Том Хэнкс, Робин Райт</td>\n",
       "      <td>США</td>\n",
       "      <td>драма</td>\n",
       "      <td>Роберт Земекис</td>\n",
       "      <td>1994</td>\n",
       "      <td>142</td>\n",
       "    </tr>\n",
       "    <tr>\n",
       "      <th>3</th>\n",
       "      <td>1+1</td>\n",
       "      <td>Франсуа Клюзе, Омар Си</td>\n",
       "      <td>Франция</td>\n",
       "      <td>драма</td>\n",
       "      <td>Оливье Накаш</td>\n",
       "      <td>2011</td>\n",
       "      <td>112</td>\n",
       "    </tr>\n",
       "    <tr>\n",
       "      <th>4</th>\n",
       "      <td>Список Шиндлера</td>\n",
       "      <td>Лиам Нисон, Бен Кингсли</td>\n",
       "      <td>США</td>\n",
       "      <td>драма</td>\n",
       "      <td>Стивен Спилберг</td>\n",
       "      <td>1993</td>\n",
       "      <td>195</td>\n",
       "    </tr>\n",
       "    <tr>\n",
       "      <th>...</th>\n",
       "      <td>...</td>\n",
       "      <td>...</td>\n",
       "      <td>...</td>\n",
       "      <td>...</td>\n",
       "      <td>...</td>\n",
       "      <td>...</td>\n",
       "      <td>...</td>\n",
       "    </tr>\n",
       "    <tr>\n",
       "      <th>245</th>\n",
       "      <td>Берегись автомобиля</td>\n",
       "      <td>Иннокентий Смоктуновский, Олег Ефремов</td>\n",
       "      <td>СССР</td>\n",
       "      <td>криминал</td>\n",
       "      <td>Эльдар Рязанов</td>\n",
       "      <td>1966</td>\n",
       "      <td>94</td>\n",
       "    </tr>\n",
       "    <tr>\n",
       "      <th>246</th>\n",
       "      <td>Ирония судьбы, или С легким паром!</td>\n",
       "      <td>Андрей Мягков, Барбара Брыльска</td>\n",
       "      <td>СССР</td>\n",
       "      <td>мелодрама</td>\n",
       "      <td>Эльдар Рязанов</td>\n",
       "      <td>1975</td>\n",
       "      <td>184</td>\n",
       "    </tr>\n",
       "    <tr>\n",
       "      <th>247</th>\n",
       "      <td>Реквием по мечте</td>\n",
       "      <td>Джаред Лето, Марлон Уайанс</td>\n",
       "      <td>США</td>\n",
       "      <td>драма</td>\n",
       "      <td>Даррен Аронофски</td>\n",
       "      <td>2000</td>\n",
       "      <td>102</td>\n",
       "    </tr>\n",
       "    <tr>\n",
       "      <th>248</th>\n",
       "      <td>Мумия</td>\n",
       "      <td>Брендан Фрейзер, Рэйчел Вайс</td>\n",
       "      <td>США</td>\n",
       "      <td>фэнтези</td>\n",
       "      <td>Стивен Соммерс</td>\n",
       "      <td>1999</td>\n",
       "      <td>124</td>\n",
       "    </tr>\n",
       "    <tr>\n",
       "      <th>249</th>\n",
       "      <td>Полосатый рейс</td>\n",
       "      <td>Алексей Грибов, Иван Дмитриев</td>\n",
       "      <td>СССР</td>\n",
       "      <td>комедия</td>\n",
       "      <td>Владимир Фетин</td>\n",
       "      <td>1961</td>\n",
       "      <td>87</td>\n",
       "    </tr>\n",
       "  </tbody>\n",
       "</table>\n",
       "<p>250 rows × 7 columns</p>\n",
       "</div>"
      ],
      "text/plain": [
       "                                  title  \\\n",
       "0                          Зеленая миля   \n",
       "1                     Побег из Шоушенка   \n",
       "2                          Форрест Гамп   \n",
       "3                                   1+1   \n",
       "4                       Список Шиндлера   \n",
       "..                                  ...   \n",
       "245                 Берегись автомобиля   \n",
       "246  Ирония судьбы, или С легким паром!   \n",
       "247                    Реквием по мечте   \n",
       "248                               Мумия   \n",
       "249                      Полосатый рейс   \n",
       "\n",
       "                                main_actors   country       genre  \\\n",
       "0                     Том Хэнкс, Дэвид Морс      США        драма   \n",
       "1                Тим Роббинс, Морган Фриман      США        драма   \n",
       "2                     Том Хэнкс, Робин Райт      США        драма   \n",
       "3                    Франсуа Клюзе, Омар Си  Франция        драма   \n",
       "4                   Лиам Нисон, Бен Кингсли      США        драма   \n",
       "..                                      ...       ...         ...   \n",
       "245  Иннокентий Смоктуновский, Олег Ефремов     СССР     криминал   \n",
       "246         Андрей Мягков, Барбара Брыльска     СССР    мелодрама   \n",
       "247              Джаред Лето, Марлон Уайанс      США        драма   \n",
       "248            Брендан Фрейзер, Рэйчел Вайс      США      фэнтези   \n",
       "249           Алексей Грибов, Иван Дмитриев     СССР      комедия   \n",
       "\n",
       "             producer  year  time_min  \n",
       "0      Фрэнк Дарабонт  1999       189  \n",
       "1      Фрэнк Дарабонт  1994       142  \n",
       "2      Роберт Земекис  1994       142  \n",
       "3        Оливье Накаш  2011       112  \n",
       "4     Стивен Спилберг  1993       195  \n",
       "..                ...   ...       ...  \n",
       "245    Эльдар Рязанов  1966        94  \n",
       "246    Эльдар Рязанов  1975       184  \n",
       "247  Даррен Аронофски  2000       102  \n",
       "248    Стивен Соммерс  1999       124  \n",
       "249    Владимир Фетин  1961        87  \n",
       "\n",
       "[250 rows x 7 columns]"
      ]
     },
     "execution_count": 31,
     "metadata": {},
     "output_type": "execute_result"
    }
   ],
   "source": [
    "df"
   ]
  },
  {
   "cell_type": "markdown",
   "metadata": {},
   "source": [
    "create subcolumns: time_min, year from main_info1"
   ]
  },
  {
   "cell_type": "code",
   "execution_count": 13,
   "metadata": {},
   "outputs": [],
   "source": [
    "time_min = []\n",
    "for x in range(len(df)):\n",
    "    time_min.append(df['main_info1'][x][-1])"
   ]
  },
  {
   "cell_type": "code",
   "execution_count": 14,
   "metadata": {},
   "outputs": [],
   "source": [
    "year = []\n",
    "for x in range(len(df)):\n",
    "    year.append(df['main_info1'][x][-2])"
   ]
  },
  {
   "cell_type": "code",
   "execution_count": 15,
   "metadata": {},
   "outputs": [],
   "source": [
    "df['year'] = year\n",
    "df['time_min'] = time_min"
   ]
  },
  {
   "cell_type": "code",
   "execution_count": 16,
   "metadata": {},
   "outputs": [],
   "source": [
    "df['time_min'] = df['time_min'].str.replace(' мин.','')"
   ]
  },
  {
   "cell_type": "markdown",
   "metadata": {},
   "source": [
    "columns time_min, year to numeric"
   ]
  },
  {
   "cell_type": "code",
   "execution_count": 17,
   "metadata": {},
   "outputs": [],
   "source": [
    "df['time_min'] = pd.to_numeric(df['time_min'])\n",
    "df['year'] = pd.to_numeric(df['year'])"
   ]
  },
  {
   "cell_type": "code",
   "execution_count": 24,
   "metadata": {},
   "outputs": [],
   "source": [
    "df = df.drop('main_info1',axis=1)"
   ]
  },
  {
   "cell_type": "markdown",
   "metadata": {},
   "source": [
    "# Small eda"
   ]
  },
  {
   "cell_type": "markdown",
   "metadata": {},
   "source": [
    "rows,columns"
   ]
  },
  {
   "cell_type": "code",
   "execution_count": 18,
   "metadata": {},
   "outputs": [
    {
     "data": {
      "text/plain": [
       "(250, 8)"
      ]
     },
     "execution_count": 18,
     "metadata": {},
     "output_type": "execute_result"
    }
   ],
   "source": [
    "df.shape"
   ]
  },
  {
   "cell_type": "markdown",
   "metadata": {},
   "source": [
    "duplicates"
   ]
  },
  {
   "cell_type": "code",
   "execution_count": 25,
   "metadata": {},
   "outputs": [
    {
     "data": {
      "text/plain": [
       "0.0"
      ]
     },
     "execution_count": 25,
     "metadata": {},
     "output_type": "execute_result"
    }
   ],
   "source": [
    "df.duplicated().mean()"
   ]
  },
  {
   "cell_type": "markdown",
   "metadata": {},
   "source": [
    "nan values"
   ]
  },
  {
   "cell_type": "code",
   "execution_count": 26,
   "metadata": {},
   "outputs": [
    {
     "data": {
      "text/plain": [
       "title          0.0\n",
       "main_actors    0.0\n",
       "country        0.0\n",
       "genre          0.0\n",
       "producer       0.0\n",
       "year           0.0\n",
       "time_min       0.0\n",
       "dtype: float64"
      ]
     },
     "execution_count": 26,
     "metadata": {},
     "output_type": "execute_result"
    }
   ],
   "source": [
    "df.isna().mean()"
   ]
  },
  {
   "cell_type": "markdown",
   "metadata": {},
   "source": [
    "describe for numeric columns (mean,median,std,min,max,procentile)"
   ]
  },
  {
   "cell_type": "code",
   "execution_count": 28,
   "metadata": {},
   "outputs": [
    {
     "data": {
      "text/html": [
       "<div>\n",
       "<style scoped>\n",
       "    .dataframe tbody tr th:only-of-type {\n",
       "        vertical-align: middle;\n",
       "    }\n",
       "\n",
       "    .dataframe tbody tr th {\n",
       "        vertical-align: top;\n",
       "    }\n",
       "\n",
       "    .dataframe thead th {\n",
       "        text-align: right;\n",
       "    }\n",
       "</style>\n",
       "<table border=\"1\" class=\"dataframe\">\n",
       "  <thead>\n",
       "    <tr style=\"text-align: right;\">\n",
       "      <th></th>\n",
       "      <th>year</th>\n",
       "      <th>time_min</th>\n",
       "    </tr>\n",
       "  </thead>\n",
       "  <tbody>\n",
       "    <tr>\n",
       "      <th>count</th>\n",
       "      <td>250.000000</td>\n",
       "      <td>250.000000</td>\n",
       "    </tr>\n",
       "    <tr>\n",
       "      <th>mean</th>\n",
       "      <td>1997.204000</td>\n",
       "      <td>122.148000</td>\n",
       "    </tr>\n",
       "    <tr>\n",
       "      <th>std</th>\n",
       "      <td>17.119541</td>\n",
       "      <td>29.648647</td>\n",
       "    </tr>\n",
       "    <tr>\n",
       "      <th>min</th>\n",
       "      <td>1939.000000</td>\n",
       "      <td>59.000000</td>\n",
       "    </tr>\n",
       "    <tr>\n",
       "      <th>25%</th>\n",
       "      <td>1986.250000</td>\n",
       "      <td>97.250000</td>\n",
       "    </tr>\n",
       "    <tr>\n",
       "      <th>50%</th>\n",
       "      <td>2001.000000</td>\n",
       "      <td>119.000000</td>\n",
       "    </tr>\n",
       "    <tr>\n",
       "      <th>75%</th>\n",
       "      <td>2010.750000</td>\n",
       "      <td>139.750000</td>\n",
       "    </tr>\n",
       "    <tr>\n",
       "      <th>max</th>\n",
       "      <td>2023.000000</td>\n",
       "      <td>222.000000</td>\n",
       "    </tr>\n",
       "  </tbody>\n",
       "</table>\n",
       "</div>"
      ],
      "text/plain": [
       "              year    time_min\n",
       "count   250.000000  250.000000\n",
       "mean   1997.204000  122.148000\n",
       "std      17.119541   29.648647\n",
       "min    1939.000000   59.000000\n",
       "25%    1986.250000   97.250000\n",
       "50%    2001.000000  119.000000\n",
       "75%    2010.750000  139.750000\n",
       "max    2023.000000  222.000000"
      ]
     },
     "execution_count": 28,
     "metadata": {},
     "output_type": "execute_result"
    }
   ],
   "source": [
    "df.describe()"
   ]
  },
  {
   "cell_type": "markdown",
   "metadata": {},
   "source": [
    "## top 5 country"
   ]
  },
  {
   "cell_type": "code",
   "execution_count": null,
   "metadata": {},
   "outputs": [
    {
     "data": {
      "text/plain": [
       "country\n",
       "США                110\n",
       "СССР                55\n",
       "Россия              17\n",
       "Великобритания      15\n",
       "Япония              14\n",
       "Name: count, dtype: int64"
      ]
     },
     "metadata": {},
     "output_type": "display_data"
    }
   ],
   "source": [
    "df['country'].value_counts().head(5)"
   ]
  },
  {
   "cell_type": "markdown",
   "metadata": {},
   "source": [
    "## top 5 genre"
   ]
  },
  {
   "cell_type": "code",
   "execution_count": 30,
   "metadata": {},
   "outputs": [
    {
     "data": {
      "text/plain": [
       "genre\n",
       " драма         68\n",
       " мультфильм    33\n",
       " фэнтези       23\n",
       " мелодрама     19\n",
       " фантастика    18\n",
       "Name: count, dtype: int64"
      ]
     },
     "execution_count": 30,
     "metadata": {},
     "output_type": "execute_result"
    }
   ],
   "source": [
    "df['genre'].value_counts().head(5)"
   ]
  },
  {
   "cell_type": "markdown",
   "metadata": {},
   "source": [
    "## top 5 producers"
   ]
  },
  {
   "cell_type": "code",
   "execution_count": 35,
   "metadata": {},
   "outputs": [
    {
     "data": {
      "text/plain": [
       "producer\n",
       "Хаяо Миядзаки      9\n",
       "Леонид Гайдай      6\n",
       "Крис Коламбус      6\n",
       "Эльдар Рязанов     6\n",
       "Кристофер Нолан    6\n",
       "Name: count, dtype: int64"
      ]
     },
     "execution_count": 35,
     "metadata": {},
     "output_type": "execute_result"
    }
   ],
   "source": [
    "df['producer'].value_counts().head()"
   ]
  },
  {
   "cell_type": "code",
   "execution_count": null,
   "metadata": {},
   "outputs": [],
   "source": []
  }
 ],
 "metadata": {
  "kernelspec": {
   "display_name": "testi2",
   "language": "python",
   "name": "testi2"
  },
  "language_info": {
   "codemirror_mode": {
    "name": "ipython",
    "version": 3
   },
   "file_extension": ".py",
   "mimetype": "text/x-python",
   "name": "python",
   "nbconvert_exporter": "python",
   "pygments_lexer": "ipython3",
   "version": "3.11.4"
  }
 },
 "nbformat": 4,
 "nbformat_minor": 2
}
